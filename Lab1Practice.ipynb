{
  "nbformat": 4,
  "nbformat_minor": 0,
  "metadata": {
    "colab": {
      "name": "Lab1Practice.ipynb",
      "provenance": [],
      "collapsed_sections": [],
      "authorship_tag": "ABX9TyN78PvZbQ05en3nOFVDmPPm",
      "include_colab_link": true
    },
    "kernelspec": {
      "name": "python3",
      "display_name": "Python 3"
    }
  },
  "cells": [
    {
      "cell_type": "markdown",
      "metadata": {
        "id": "view-in-github",
        "colab_type": "text"
      },
      "source": [
        "<a href=\"https://colab.research.google.com/github/taylorgunnells/Practice/blob/master/Lab1Practice.ipynb\" target=\"_parent\"><img src=\"https://colab.research.google.com/assets/colab-badge.svg\" alt=\"Open In Colab\"/></a>"
      ]
    },
    {
      "cell_type": "markdown",
      "metadata": {
        "id": "H2nkJ1rtu7xW",
        "colab_type": "text"
      },
      "source": [
        "## Do you like using Jupyter Notebooks?"
      ]
    },
    {
      "cell_type": "markdown",
      "metadata": {
        "id": "tCGDDmW_vIMS",
        "colab_type": "text"
      },
      "source": [
        "Yes, I like using this software. I find it really easy to use and I think I understand it pretty well so far. "
      ]
    },
    {
      "cell_type": "markdown",
      "metadata": {
        "id": "K9Skfs_ovPZV",
        "colab_type": "text"
      },
      "source": [
        "## What do you want to learn more about in Jupyter Notebooks?"
      ]
    },
    {
      "cell_type": "markdown",
      "metadata": {
        "id": "GsjC2SJfvUGq",
        "colab_type": "text"
      },
      "source": [
        "I want to learn more about the different features available in this application because I think that this software will really help me with my career in the future."
      ]
    },
    {
      "cell_type": "markdown",
      "metadata": {
        "id": "gMyRSAIkvthp",
        "colab_type": "text"
      },
      "source": [
        "![Flashdrive for design class](https://raw.githubusercontent.com/taylorgunnells/Practice/master/Images/IMG_4985.JPG) "
      ]
    }
  ]
}